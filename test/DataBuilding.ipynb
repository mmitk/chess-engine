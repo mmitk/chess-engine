{
 "cells": [
  {
   "cell_type": "markdown",
   "metadata": {},
   "source": [
    "Since I found history.csv to be unusable (for several reasons to do with numpy, as well as bite encoding) I must generate my own testing data here, it is somewhat reduntant but will lead to easier control in further testing"
   ]
  },
  {
   "cell_type": "code",
   "execution_count": 1,
   "metadata": {},
   "outputs": [],
   "source": [
    "import pandas as pd\n",
    "import numpy as np\n",
    "import matplotlib.pyplot as plt\n",
    "import chess"
   ]
  },
  {
   "cell_type": "code",
   "execution_count": 2,
   "metadata": {},
   "outputs": [],
   "source": [
    "orig = pd.read_csv('..\\\\src\\\\history.csv')"
   ]
  },
  {
   "cell_type": "code",
   "execution_count": 3,
   "metadata": {},
   "outputs": [
    {
     "data": {
      "text/html": [
       "<div>\n",
       "<style scoped>\n",
       "    .dataframe tbody tr th:only-of-type {\n",
       "        vertical-align: middle;\n",
       "    }\n",
       "\n",
       "    .dataframe tbody tr th {\n",
       "        vertical-align: top;\n",
       "    }\n",
       "\n",
       "    .dataframe thead th {\n",
       "        text-align: right;\n",
       "    }\n",
       "</style>\n",
       "<table border=\"1\" class=\"dataframe\">\n",
       "  <thead>\n",
       "    <tr style=\"text-align: right;\">\n",
       "      <th></th>\n",
       "      <th>input</th>\n",
       "      <th>target</th>\n",
       "    </tr>\n",
       "  </thead>\n",
       "  <tbody>\n",
       "    <tr>\n",
       "      <th>0</th>\n",
       "      <td>b'rnbqkbr1/pppppppp/5n2/8/8/7N/PPPPPPPP/RNBQKB...</td>\n",
       "      <td>-40</td>\n",
       "    </tr>\n",
       "    <tr>\n",
       "      <th>1</th>\n",
       "      <td>b'rnbqkbr1/pppppppp/5n2/8/8/7N/PPPPPPPP/RNBQKB...</td>\n",
       "      <td>-40</td>\n",
       "    </tr>\n",
       "    <tr>\n",
       "      <th>2</th>\n",
       "      <td>b'rnbqkbr1/pppppppp/5n2/8/8/7N/PPPPPPPP/RNBQKB...</td>\n",
       "      <td>-40</td>\n",
       "    </tr>\n",
       "    <tr>\n",
       "      <th>3</th>\n",
       "      <td>b'rnbqkbr1/pppppppp/5n2/8/8/7N/PPPPPPPP/RNBQKB...</td>\n",
       "      <td>-40</td>\n",
       "    </tr>\n",
       "    <tr>\n",
       "      <th>4</th>\n",
       "      <td>b'rnbqkbr1/pppppppp/5n2/8/8/7N/PPPPPPPP/RNBQKB...</td>\n",
       "      <td>-40</td>\n",
       "    </tr>\n",
       "  </tbody>\n",
       "</table>\n",
       "</div>"
      ],
      "text/plain": [
       "                                               input  target\n",
       "0  b'rnbqkbr1/pppppppp/5n2/8/8/7N/PPPPPPPP/RNBQKB...     -40\n",
       "1  b'rnbqkbr1/pppppppp/5n2/8/8/7N/PPPPPPPP/RNBQKB...     -40\n",
       "2  b'rnbqkbr1/pppppppp/5n2/8/8/7N/PPPPPPPP/RNBQKB...     -40\n",
       "3  b'rnbqkbr1/pppppppp/5n2/8/8/7N/PPPPPPPP/RNBQKB...     -40\n",
       "4  b'rnbqkbr1/pppppppp/5n2/8/8/7N/PPPPPPPP/RNBQKB...     -40"
      ]
     },
     "execution_count": 3,
     "metadata": {},
     "output_type": "execute_result"
    }
   ],
   "source": [
    "orig.head()"
   ]
  },
  {
   "cell_type": "code",
   "execution_count": 4,
   "metadata": {},
   "outputs": [
    {
     "data": {
      "text/html": [
       "<div>\n",
       "<style scoped>\n",
       "    .dataframe tbody tr th:only-of-type {\n",
       "        vertical-align: middle;\n",
       "    }\n",
       "\n",
       "    .dataframe tbody tr th {\n",
       "        vertical-align: top;\n",
       "    }\n",
       "\n",
       "    .dataframe thead th {\n",
       "        text-align: right;\n",
       "    }\n",
       "</style>\n",
       "<table border=\"1\" class=\"dataframe\">\n",
       "  <thead>\n",
       "    <tr style=\"text-align: right;\">\n",
       "      <th></th>\n",
       "      <th>target</th>\n",
       "    </tr>\n",
       "  </thead>\n",
       "  <tbody>\n",
       "    <tr>\n",
       "      <th>count</th>\n",
       "      <td>1500.000000</td>\n",
       "    </tr>\n",
       "    <tr>\n",
       "      <th>mean</th>\n",
       "      <td>-70.166667</td>\n",
       "    </tr>\n",
       "    <tr>\n",
       "      <th>std</th>\n",
       "      <td>29.490994</td>\n",
       "    </tr>\n",
       "    <tr>\n",
       "      <th>min</th>\n",
       "      <td>-110.000000</td>\n",
       "    </tr>\n",
       "    <tr>\n",
       "      <th>25%</th>\n",
       "      <td>-100.000000</td>\n",
       "    </tr>\n",
       "    <tr>\n",
       "      <th>50%</th>\n",
       "      <td>-70.000000</td>\n",
       "    </tr>\n",
       "    <tr>\n",
       "      <th>75%</th>\n",
       "      <td>-50.000000</td>\n",
       "    </tr>\n",
       "    <tr>\n",
       "      <th>max</th>\n",
       "      <td>0.000000</td>\n",
       "    </tr>\n",
       "  </tbody>\n",
       "</table>\n",
       "</div>"
      ],
      "text/plain": [
       "            target\n",
       "count  1500.000000\n",
       "mean    -70.166667\n",
       "std      29.490994\n",
       "min    -110.000000\n",
       "25%    -100.000000\n",
       "50%     -70.000000\n",
       "75%     -50.000000\n",
       "max       0.000000"
      ]
     },
     "execution_count": 4,
     "metadata": {},
     "output_type": "execute_result"
    }
   ],
   "source": [
    "orig.describe()"
   ]
  },
  {
   "cell_type": "code",
   "execution_count": 5,
   "metadata": {},
   "outputs": [],
   "source": [
    "df = orig.drop_duplicates()"
   ]
  },
  {
   "cell_type": "code",
   "execution_count": 6,
   "metadata": {},
   "outputs": [
    {
     "name": "stderr",
     "output_type": "stream",
     "text": [
      "C:\\Users\\mmitk\\Anaconda3\\envs\\aienv\\lib\\site-packages\\ipykernel_launcher.py:4: SettingWithCopyWarning: \n",
      "A value is trying to be set on a copy of a slice from a DataFrame.\n",
      "Try using .loc[row_indexer,col_indexer] = value instead\n",
      "\n",
      "See the caveats in the documentation: https://pandas.pydata.org/pandas-docs/stable/user_guide/indexing.html#returning-a-view-versus-a-copy\n",
      "  after removing the cwd from sys.path.\n"
     ]
    }
   ],
   "source": [
    "def stringify(enc_str):\n",
    "    return str(enc_str[2:len(enc_str)-1])\n",
    "\n",
    "df['input'] = df['input'].apply(stringify)"
   ]
  },
  {
   "cell_type": "code",
   "execution_count": 7,
   "metadata": {},
   "outputs": [
    {
     "data": {
      "text/html": [
       "<div>\n",
       "<style scoped>\n",
       "    .dataframe tbody tr th:only-of-type {\n",
       "        vertical-align: middle;\n",
       "    }\n",
       "\n",
       "    .dataframe tbody tr th {\n",
       "        vertical-align: top;\n",
       "    }\n",
       "\n",
       "    .dataframe thead th {\n",
       "        text-align: right;\n",
       "    }\n",
       "</style>\n",
       "<table border=\"1\" class=\"dataframe\">\n",
       "  <thead>\n",
       "    <tr style=\"text-align: right;\">\n",
       "      <th></th>\n",
       "      <th>input</th>\n",
       "      <th>target</th>\n",
       "    </tr>\n",
       "  </thead>\n",
       "  <tbody>\n",
       "    <tr>\n",
       "      <th>0</th>\n",
       "      <td>rnbqkbr1/pppppppp/5n2/8/8/7N/PPPPPPPP/RNBQKB1R...</td>\n",
       "      <td>-40</td>\n",
       "    </tr>\n",
       "    <tr>\n",
       "      <th>25</th>\n",
       "      <td>rnbqkbr1/pppppppp/5n2/8/8/5N2/PPPPPPPP/RNBQKB1...</td>\n",
       "      <td>0</td>\n",
       "    </tr>\n",
       "    <tr>\n",
       "      <th>50</th>\n",
       "      <td>rnbqkbr1/pppppppp/5n2/8/8/2N5/PPPPPPPP/R1BQKBN...</td>\n",
       "      <td>0</td>\n",
       "    </tr>\n",
       "    <tr>\n",
       "      <th>75</th>\n",
       "      <td>rnbqkbr1/pppppppp/5n2/8/8/N7/PPPPPPPP/R1BQKBNR...</td>\n",
       "      <td>-40</td>\n",
       "    </tr>\n",
       "    <tr>\n",
       "      <th>100</th>\n",
       "      <td>rnbqkbr1/pppppppp/5n2/8/8/7P/PPPPPPP1/RNBQKBNR...</td>\n",
       "      <td>-50</td>\n",
       "    </tr>\n",
       "  </tbody>\n",
       "</table>\n",
       "</div>"
      ],
      "text/plain": [
       "                                                 input  target\n",
       "0    rnbqkbr1/pppppppp/5n2/8/8/7N/PPPPPPPP/RNBQKB1R...     -40\n",
       "25   rnbqkbr1/pppppppp/5n2/8/8/5N2/PPPPPPPP/RNBQKB1...       0\n",
       "50   rnbqkbr1/pppppppp/5n2/8/8/2N5/PPPPPPPP/R1BQKBN...       0\n",
       "75   rnbqkbr1/pppppppp/5n2/8/8/N7/PPPPPPPP/R1BQKBNR...     -40\n",
       "100  rnbqkbr1/pppppppp/5n2/8/8/7P/PPPPPPP1/RNBQKBNR...     -50"
      ]
     },
     "execution_count": 7,
     "metadata": {},
     "output_type": "execute_result"
    }
   ],
   "source": [
    "df.head()"
   ]
  },
  {
   "cell_type": "code",
   "execution_count": 8,
   "metadata": {},
   "outputs": [],
   "source": [
    "def bin_matrix_to_decimal(matrix):\n",
    "    m = matrix.reshape(-1)\n",
    "    dec = 0\n",
    "    j = len(m)-1\n",
    "    for i in range(len(m)-1):\n",
    "        if m[i]:\n",
    "            dec += 2**j\n",
    "        j -= 1\n",
    "    return float(dec)"
   ]
  },
  {
   "cell_type": "code",
   "execution_count": 9,
   "metadata": {},
   "outputs": [],
   "source": [
    "def serialize(board):\n",
    "    import numpy as np\n",
    "    assert board.is_valid()\n",
    "\n",
    "    bstate = np.zeros(64, np.uint8)\n",
    "    for i in range(64):\n",
    "      pp = board.piece_at(i)\n",
    "      if pp is not None:\n",
    "        #print(i, pp.symbol())\n",
    "        bstate[i] = {\"P\": 1, \"N\": 2, \"B\": 3, \"R\": 4, \"Q\": 5, \"K\": 6, \\\n",
    "                     \"p\": 9, \"n\":10, \"b\":11, \"r\":12, \"q\":13, \"k\": 14}[pp.symbol()]\n",
    "    if board.has_queenside_castling_rights(chess.WHITE):\n",
    "      assert bstate[0] == 4\n",
    "      bstate[0] = 7\n",
    "    if board.has_kingside_castling_rights(chess.WHITE):\n",
    "      assert bstate[7] == 4\n",
    "      bstate[7] = 7\n",
    "    if board.has_queenside_castling_rights(chess.BLACK):\n",
    "      assert bstate[56] == 8+4\n",
    "      bstate[56] = 8+7\n",
    "    if board.has_kingside_castling_rights(chess.BLACK):\n",
    "      assert bstate[63] == 8+4\n",
    "      bstate[63] = 8+7\n",
    "\n",
    "    if board.ep_square is not None:\n",
    "      assert bstate[self.board.ep_square] == 0\n",
    "      bstate[self.board.ep_square] = 8\n",
    "    bstate = bstate.reshape(8,8)\n",
    "\n",
    "\n",
    "    state = []\n",
    "   \n",
    "    state.append(bin_matrix_to_decimal((bstate>>3)&1))\n",
    "    state.append(bin_matrix_to_decimal((bstate>>2)&1))\n",
    "    state.append(bin_matrix_to_decimal((bstate>>1)&1))\n",
    "    state.append(bin_matrix_to_decimal((bstate>>0)&1))\n",
    "\n",
    "    state.append(board.turn*1.0)\n",
    "    \n",
    "    return state\n"
   ]
  },
  {
   "cell_type": "code",
   "execution_count": 10,
   "metadata": {},
   "outputs": [
    {
     "name": "stderr",
     "output_type": "stream",
     "text": [
      "C:\\Users\\mmitk\\Anaconda3\\envs\\aienv\\lib\\site-packages\\ipykernel_launcher.py:8: SettingWithCopyWarning: \n",
      "A value is trying to be set on a copy of a slice from a DataFrame.\n",
      "Try using .loc[row_indexer,col_indexer] = value instead\n",
      "\n",
      "See the caveats in the documentation: https://pandas.pydata.org/pandas-docs/stable/user_guide/indexing.html#returning-a-view-versus-a-copy\n",
      "  \n"
     ]
    }
   ],
   "source": [
    "# to change encoded byte strings above into\n",
    "# normal string format\n",
    "def serialize2(board):\n",
    "    val = serialize(chess.Board(board))\n",
    "    return val\n",
    "\n",
    "# apply here\n",
    "df['input'] = df['input'].apply(serialize2)"
   ]
  },
  {
   "cell_type": "code",
   "execution_count": 11,
   "metadata": {},
   "outputs": [
    {
     "data": {
      "text/html": [
       "<div>\n",
       "<style scoped>\n",
       "    .dataframe tbody tr th:only-of-type {\n",
       "        vertical-align: middle;\n",
       "    }\n",
       "\n",
       "    .dataframe tbody tr th {\n",
       "        vertical-align: top;\n",
       "    }\n",
       "\n",
       "    .dataframe thead th {\n",
       "        text-align: right;\n",
       "    }\n",
       "</style>\n",
       "<table border=\"1\" class=\"dataframe\">\n",
       "  <thead>\n",
       "    <tr style=\"text-align: right;\">\n",
       "      <th></th>\n",
       "      <th>input</th>\n",
       "      <th>target</th>\n",
       "    </tr>\n",
       "  </thead>\n",
       "  <tbody>\n",
       "    <tr>\n",
       "      <th>0</th>\n",
       "      <td>[327678.0, 1.1024811887802974e+19, 1.707765088...</td>\n",
       "      <td>-40</td>\n",
       "    </tr>\n",
       "    <tr>\n",
       "      <th>25</th>\n",
       "      <td>[327678.0, 1.1024811887802974e+19, 1.707765418...</td>\n",
       "      <td>0</td>\n",
       "    </tr>\n",
       "    <tr>\n",
       "      <th>50</th>\n",
       "      <td>[327678.0, 1.1024811887802974e+19, 1.261011414...</td>\n",
       "      <td>0</td>\n",
       "    </tr>\n",
       "    <tr>\n",
       "      <th>75</th>\n",
       "      <td>[327678.0, 1.1024811887802974e+19, 1.261021969...</td>\n",
       "      <td>-40</td>\n",
       "    </tr>\n",
       "    <tr>\n",
       "      <th>100</th>\n",
       "      <td>[327678.0, 1.1024811887802974e+19, 1.722176497...</td>\n",
       "      <td>-50</td>\n",
       "    </tr>\n",
       "  </tbody>\n",
       "</table>\n",
       "</div>"
      ],
      "text/plain": [
       "                                                 input  target\n",
       "0    [327678.0, 1.1024811887802974e+19, 1.707765088...     -40\n",
       "25   [327678.0, 1.1024811887802974e+19, 1.707765418...       0\n",
       "50   [327678.0, 1.1024811887802974e+19, 1.261011414...       0\n",
       "75   [327678.0, 1.1024811887802974e+19, 1.261021969...     -40\n",
       "100  [327678.0, 1.1024811887802974e+19, 1.722176497...     -50"
      ]
     },
     "execution_count": 11,
     "metadata": {},
     "output_type": "execute_result"
    }
   ],
   "source": [
    "df.head()"
   ]
  },
  {
   "cell_type": "markdown",
   "metadata": {},
   "source": [
    "Changing input column into 5 distinct feature"
   ]
  },
  {
   "cell_type": "code",
   "execution_count": 12,
   "metadata": {},
   "outputs": [
    {
     "data": {
      "text/html": [
       "<div>\n",
       "<style scoped>\n",
       "    .dataframe tbody tr th:only-of-type {\n",
       "        vertical-align: middle;\n",
       "    }\n",
       "\n",
       "    .dataframe tbody tr th {\n",
       "        vertical-align: top;\n",
       "    }\n",
       "\n",
       "    .dataframe thead th {\n",
       "        text-align: right;\n",
       "    }\n",
       "</style>\n",
       "<table border=\"1\" class=\"dataframe\">\n",
       "  <thead>\n",
       "    <tr style=\"text-align: right;\">\n",
       "      <th></th>\n",
       "      <th>0</th>\n",
       "      <th>1</th>\n",
       "      <th>2</th>\n",
       "      <th>3</th>\n",
       "      <th>4</th>\n",
       "      <th>target</th>\n",
       "    </tr>\n",
       "  </thead>\n",
       "  <tbody>\n",
       "    <tr>\n",
       "      <th>0</th>\n",
       "      <td>327678.0</td>\n",
       "      <td>1.102481e+19</td>\n",
       "      <td>1.707765e+19</td>\n",
       "      <td>1.311420e+19</td>\n",
       "      <td>1.0</td>\n",
       "      <td>-40</td>\n",
       "    </tr>\n",
       "    <tr>\n",
       "      <th>25</th>\n",
       "      <td>327678.0</td>\n",
       "      <td>1.102481e+19</td>\n",
       "      <td>1.707765e+19</td>\n",
       "      <td>1.311420e+19</td>\n",
       "      <td>1.0</td>\n",
       "      <td>0</td>\n",
       "    </tr>\n",
       "    <tr>\n",
       "      <th>50</th>\n",
       "      <td>327678.0</td>\n",
       "      <td>1.102481e+19</td>\n",
       "      <td>1.261011e+19</td>\n",
       "      <td>1.311420e+19</td>\n",
       "      <td>1.0</td>\n",
       "      <td>0</td>\n",
       "    </tr>\n",
       "    <tr>\n",
       "      <th>75</th>\n",
       "      <td>327678.0</td>\n",
       "      <td>1.102481e+19</td>\n",
       "      <td>1.261022e+19</td>\n",
       "      <td>1.311420e+19</td>\n",
       "      <td>1.0</td>\n",
       "      <td>-40</td>\n",
       "    </tr>\n",
       "    <tr>\n",
       "      <th>100</th>\n",
       "      <td>327678.0</td>\n",
       "      <td>1.102481e+19</td>\n",
       "      <td>1.722176e+19</td>\n",
       "      <td>1.311392e+19</td>\n",
       "      <td>1.0</td>\n",
       "      <td>-50</td>\n",
       "    </tr>\n",
       "  </tbody>\n",
       "</table>\n",
       "</div>"
      ],
      "text/plain": [
       "            0             1             2             3    4  target\n",
       "0    327678.0  1.102481e+19  1.707765e+19  1.311420e+19  1.0     -40\n",
       "25   327678.0  1.102481e+19  1.707765e+19  1.311420e+19  1.0       0\n",
       "50   327678.0  1.102481e+19  1.261011e+19  1.311420e+19  1.0       0\n",
       "75   327678.0  1.102481e+19  1.261022e+19  1.311420e+19  1.0     -40\n",
       "100  327678.0  1.102481e+19  1.722176e+19  1.311392e+19  1.0     -50"
      ]
     },
     "execution_count": 12,
     "metadata": {},
     "output_type": "execute_result"
    }
   ],
   "source": [
    "# serialize and seperate input column into 5 seperate columns\n",
    "# concatenate result with target column and save back into df\n",
    "df = pd.concat([df['input'].apply(pd.Series), df['target']], axis = 1)\n",
    "df.head()"
   ]
  },
  {
   "cell_type": "code",
   "execution_count": 13,
   "metadata": {},
   "outputs": [
    {
     "data": {
      "text/html": [
       "<div>\n",
       "<style scoped>\n",
       "    .dataframe tbody tr th:only-of-type {\n",
       "        vertical-align: middle;\n",
       "    }\n",
       "\n",
       "    .dataframe tbody tr th {\n",
       "        vertical-align: top;\n",
       "    }\n",
       "\n",
       "    .dataframe thead th {\n",
       "        text-align: right;\n",
       "    }\n",
       "</style>\n",
       "<table border=\"1\" class=\"dataframe\">\n",
       "  <thead>\n",
       "    <tr style=\"text-align: right;\">\n",
       "      <th></th>\n",
       "      <th>b1</th>\n",
       "      <th>b2</th>\n",
       "      <th>b3</th>\n",
       "      <th>b4</th>\n",
       "      <th>b5</th>\n",
       "      <th>eval</th>\n",
       "    </tr>\n",
       "  </thead>\n",
       "  <tbody>\n",
       "    <tr>\n",
       "      <th>0</th>\n",
       "      <td>327678.0</td>\n",
       "      <td>1.102481e+19</td>\n",
       "      <td>1.707765e+19</td>\n",
       "      <td>1.311420e+19</td>\n",
       "      <td>1.0</td>\n",
       "      <td>-40</td>\n",
       "    </tr>\n",
       "    <tr>\n",
       "      <th>25</th>\n",
       "      <td>327678.0</td>\n",
       "      <td>1.102481e+19</td>\n",
       "      <td>1.707765e+19</td>\n",
       "      <td>1.311420e+19</td>\n",
       "      <td>1.0</td>\n",
       "      <td>0</td>\n",
       "    </tr>\n",
       "    <tr>\n",
       "      <th>50</th>\n",
       "      <td>327678.0</td>\n",
       "      <td>1.102481e+19</td>\n",
       "      <td>1.261011e+19</td>\n",
       "      <td>1.311420e+19</td>\n",
       "      <td>1.0</td>\n",
       "      <td>0</td>\n",
       "    </tr>\n",
       "    <tr>\n",
       "      <th>75</th>\n",
       "      <td>327678.0</td>\n",
       "      <td>1.102481e+19</td>\n",
       "      <td>1.261022e+19</td>\n",
       "      <td>1.311420e+19</td>\n",
       "      <td>1.0</td>\n",
       "      <td>-40</td>\n",
       "    </tr>\n",
       "    <tr>\n",
       "      <th>100</th>\n",
       "      <td>327678.0</td>\n",
       "      <td>1.102481e+19</td>\n",
       "      <td>1.722176e+19</td>\n",
       "      <td>1.311392e+19</td>\n",
       "      <td>1.0</td>\n",
       "      <td>-50</td>\n",
       "    </tr>\n",
       "  </tbody>\n",
       "</table>\n",
       "</div>"
      ],
      "text/plain": [
       "           b1            b2            b3            b4   b5  eval\n",
       "0    327678.0  1.102481e+19  1.707765e+19  1.311420e+19  1.0   -40\n",
       "25   327678.0  1.102481e+19  1.707765e+19  1.311420e+19  1.0     0\n",
       "50   327678.0  1.102481e+19  1.261011e+19  1.311420e+19  1.0     0\n",
       "75   327678.0  1.102481e+19  1.261022e+19  1.311420e+19  1.0   -40\n",
       "100  327678.0  1.102481e+19  1.722176e+19  1.311392e+19  1.0   -50"
      ]
     },
     "execution_count": 13,
     "metadata": {},
     "output_type": "execute_result"
    }
   ],
   "source": [
    "df = df.rename(columns = {0:'b1',1:'b2',2:'b3',3:'b4',4:'b5','target':'eval'})\n",
    "df.head()"
   ]
  },
  {
   "cell_type": "code",
   "execution_count": 14,
   "metadata": {},
   "outputs": [],
   "source": [
    "df.to_csv('data.csv', index = False)"
   ]
  },
  {
   "cell_type": "markdown",
   "metadata": {},
   "source": [
    "Adding random classes"
   ]
  },
  {
   "cell_type": "code",
   "execution_count": 15,
   "metadata": {},
   "outputs": [],
   "source": [
    "classes = np.random.randint(2, size=len(df.index))\n",
    "df['class'] = classes"
   ]
  },
  {
   "cell_type": "code",
   "execution_count": 16,
   "metadata": {},
   "outputs": [
    {
     "data": {
      "text/html": [
       "<div>\n",
       "<style scoped>\n",
       "    .dataframe tbody tr th:only-of-type {\n",
       "        vertical-align: middle;\n",
       "    }\n",
       "\n",
       "    .dataframe tbody tr th {\n",
       "        vertical-align: top;\n",
       "    }\n",
       "\n",
       "    .dataframe thead th {\n",
       "        text-align: right;\n",
       "    }\n",
       "</style>\n",
       "<table border=\"1\" class=\"dataframe\">\n",
       "  <thead>\n",
       "    <tr style=\"text-align: right;\">\n",
       "      <th></th>\n",
       "      <th>b1</th>\n",
       "      <th>b2</th>\n",
       "      <th>b3</th>\n",
       "      <th>b4</th>\n",
       "      <th>b5</th>\n",
       "      <th>class</th>\n",
       "    </tr>\n",
       "  </thead>\n",
       "  <tbody>\n",
       "    <tr>\n",
       "      <th>0</th>\n",
       "      <td>327678.0</td>\n",
       "      <td>1.102481e+19</td>\n",
       "      <td>1.707765e+19</td>\n",
       "      <td>1.311420e+19</td>\n",
       "      <td>1.0</td>\n",
       "      <td>0</td>\n",
       "    </tr>\n",
       "    <tr>\n",
       "      <th>25</th>\n",
       "      <td>327678.0</td>\n",
       "      <td>1.102481e+19</td>\n",
       "      <td>1.707765e+19</td>\n",
       "      <td>1.311420e+19</td>\n",
       "      <td>1.0</td>\n",
       "      <td>1</td>\n",
       "    </tr>\n",
       "    <tr>\n",
       "      <th>50</th>\n",
       "      <td>327678.0</td>\n",
       "      <td>1.102481e+19</td>\n",
       "      <td>1.261011e+19</td>\n",
       "      <td>1.311420e+19</td>\n",
       "      <td>1.0</td>\n",
       "      <td>1</td>\n",
       "    </tr>\n",
       "    <tr>\n",
       "      <th>75</th>\n",
       "      <td>327678.0</td>\n",
       "      <td>1.102481e+19</td>\n",
       "      <td>1.261022e+19</td>\n",
       "      <td>1.311420e+19</td>\n",
       "      <td>1.0</td>\n",
       "      <td>0</td>\n",
       "    </tr>\n",
       "    <tr>\n",
       "      <th>100</th>\n",
       "      <td>327678.0</td>\n",
       "      <td>1.102481e+19</td>\n",
       "      <td>1.722176e+19</td>\n",
       "      <td>1.311392e+19</td>\n",
       "      <td>1.0</td>\n",
       "      <td>0</td>\n",
       "    </tr>\n",
       "  </tbody>\n",
       "</table>\n",
       "</div>"
      ],
      "text/plain": [
       "           b1            b2            b3            b4   b5  class\n",
       "0    327678.0  1.102481e+19  1.707765e+19  1.311420e+19  1.0      0\n",
       "25   327678.0  1.102481e+19  1.707765e+19  1.311420e+19  1.0      1\n",
       "50   327678.0  1.102481e+19  1.261011e+19  1.311420e+19  1.0      1\n",
       "75   327678.0  1.102481e+19  1.261022e+19  1.311420e+19  1.0      0\n",
       "100  327678.0  1.102481e+19  1.722176e+19  1.311392e+19  1.0      0"
      ]
     },
     "execution_count": 16,
     "metadata": {},
     "output_type": "execute_result"
    }
   ],
   "source": [
    "df.pop('eval')\n",
    "df.head()"
   ]
  },
  {
   "cell_type": "code",
   "execution_count": 17,
   "metadata": {},
   "outputs": [],
   "source": [
    "df.to_csv('test_data1.csv', index = False)"
   ]
  },
  {
   "cell_type": "code",
   "execution_count": null,
   "metadata": {},
   "outputs": [],
   "source": []
  }
 ],
 "metadata": {
  "kernelspec": {
   "display_name": "Python 3",
   "language": "python",
   "name": "python3"
  },
  "language_info": {
   "codemirror_mode": {
    "name": "ipython",
    "version": 3
   },
   "file_extension": ".py",
   "mimetype": "text/x-python",
   "name": "python",
   "nbconvert_exporter": "python",
   "pygments_lexer": "ipython3",
   "version": "3.7.6"
  },
  "latex_envs": {
   "LaTeX_envs_menu_present": true,
   "autoclose": false,
   "autocomplete": true,
   "bibliofile": "biblio.bib",
   "cite_by": "apalike",
   "current_citInitial": 1,
   "eqLabelWithNumbers": true,
   "eqNumInitial": 1,
   "hotkeys": {
    "equation": "Ctrl-E",
    "itemize": "Ctrl-I"
   },
   "labels_anchors": false,
   "latex_user_defs": false,
   "report_style_numbering": false,
   "user_envs_cfg": false
  }
 },
 "nbformat": 4,
 "nbformat_minor": 4
}
