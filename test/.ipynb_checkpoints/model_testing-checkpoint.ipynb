{
 "cells": [
  {
   "cell_type": "markdown",
   "metadata": {},
   "source": [
    "IMPORT DATA"
   ]
  },
  {
   "cell_type": "code",
   "execution_count": 1,
   "metadata": {},
   "outputs": [],
   "source": [
    "import pandas as pd\n",
    "import numpy as np\n",
    "import matplotlib.pyplot as plt\n",
    "import seaborn as sns"
   ]
  },
  {
   "cell_type": "code",
   "execution_count": 2,
   "metadata": {},
   "outputs": [
    {
     "data": {
      "text/html": [
       "<div>\n",
       "<style scoped>\n",
       "    .dataframe tbody tr th:only-of-type {\n",
       "        vertical-align: middle;\n",
       "    }\n",
       "\n",
       "    .dataframe tbody tr th {\n",
       "        vertical-align: top;\n",
       "    }\n",
       "\n",
       "    .dataframe thead th {\n",
       "        text-align: right;\n",
       "    }\n",
       "</style>\n",
       "<table border=\"1\" class=\"dataframe\">\n",
       "  <thead>\n",
       "    <tr style=\"text-align: right;\">\n",
       "      <th></th>\n",
       "      <th>state</th>\n",
       "      <th>move</th>\n",
       "      <th>pred_prob</th>\n",
       "    </tr>\n",
       "  </thead>\n",
       "  <tbody>\n",
       "    <tr>\n",
       "      <th>0</th>\n",
       "      <td>rnbqkbnr/pppppppp/8/8/8/5N2/PPPPPPPP/RNBQKB1R ...</td>\n",
       "      <td>g8h6</td>\n",
       "      <td>1</td>\n",
       "    </tr>\n",
       "  </tbody>\n",
       "</table>\n",
       "</div>"
      ],
      "text/plain": [
       "                                               state  move  pred_prob\n",
       "0  rnbqkbnr/pppppppp/8/8/8/5N2/PPPPPPPP/RNBQKB1R ...  g8h6          1"
      ]
     },
     "execution_count": 2,
     "metadata": {},
     "output_type": "execute_result"
    }
   ],
   "source": [
    "# import data from the generated dataset \n",
    "# generated in DataBuilding.ipnyb\n",
    "data = pd.read_csv('..\\\\data\\\\history\\\\history.csv')\n",
    "data.head()"
   ]
  },
  {
   "cell_type": "code",
   "execution_count": 3,
   "metadata": {},
   "outputs": [
    {
     "data": {
      "text/html": [
       "<div>\n",
       "<style scoped>\n",
       "    .dataframe tbody tr th:only-of-type {\n",
       "        vertical-align: middle;\n",
       "    }\n",
       "\n",
       "    .dataframe tbody tr th {\n",
       "        vertical-align: top;\n",
       "    }\n",
       "\n",
       "    .dataframe thead th {\n",
       "        text-align: right;\n",
       "    }\n",
       "</style>\n",
       "<table border=\"1\" class=\"dataframe\">\n",
       "  <thead>\n",
       "    <tr style=\"text-align: right;\">\n",
       "      <th></th>\n",
       "      <th>pred_prob</th>\n",
       "    </tr>\n",
       "  </thead>\n",
       "  <tbody>\n",
       "    <tr>\n",
       "      <th>count</th>\n",
       "      <td>1.0</td>\n",
       "    </tr>\n",
       "    <tr>\n",
       "      <th>mean</th>\n",
       "      <td>1.0</td>\n",
       "    </tr>\n",
       "    <tr>\n",
       "      <th>std</th>\n",
       "      <td>NaN</td>\n",
       "    </tr>\n",
       "    <tr>\n",
       "      <th>min</th>\n",
       "      <td>1.0</td>\n",
       "    </tr>\n",
       "    <tr>\n",
       "      <th>25%</th>\n",
       "      <td>1.0</td>\n",
       "    </tr>\n",
       "    <tr>\n",
       "      <th>50%</th>\n",
       "      <td>1.0</td>\n",
       "    </tr>\n",
       "    <tr>\n",
       "      <th>75%</th>\n",
       "      <td>1.0</td>\n",
       "    </tr>\n",
       "    <tr>\n",
       "      <th>max</th>\n",
       "      <td>1.0</td>\n",
       "    </tr>\n",
       "  </tbody>\n",
       "</table>\n",
       "</div>"
      ],
      "text/plain": [
       "       pred_prob\n",
       "count        1.0\n",
       "mean         1.0\n",
       "std          NaN\n",
       "min          1.0\n",
       "25%          1.0\n",
       "50%          1.0\n",
       "75%          1.0\n",
       "max          1.0"
      ]
     },
     "execution_count": 3,
     "metadata": {},
     "output_type": "execute_result"
    }
   ],
   "source": [
    "data.describe()"
   ]
  },
  {
   "cell_type": "markdown",
   "metadata": {},
   "source": [
    "Need to investigate origins and meaning of fen() encoding before examining further aspects of dataset"
   ]
  },
  {
   "cell_type": "code",
   "execution_count": 4,
   "metadata": {},
   "outputs": [],
   "source": [
    "def bin_matrix_to_decimal(matrix):\n",
    "    m = matrix.reshape(-1)\n",
    "    dec = 0\n",
    "    j = len(m)-1\n",
    "    for i in range(len(m)-1):\n",
    "        if m[i]:\n",
    "            dec += 2**j\n",
    "        j -= 1\n",
    "    return float(dec)"
   ]
  },
  {
   "cell_type": "code",
   "execution_count": 5,
   "metadata": {},
   "outputs": [],
   "source": [
    "def serialize(board):\n",
    "    import numpy as np\n",
    "    assert board.is_valid()\n",
    "\n",
    "    bstate = np.zeros(64, np.uint8)\n",
    "    for i in range(64):\n",
    "      pp = board.piece_at(i)\n",
    "      if pp is not None:\n",
    "        #print(i, pp.symbol())\n",
    "        bstate[i] = {\"P\": 1, \"N\": 2, \"B\": 3, \"R\": 4, \"Q\": 5, \"K\": 6, \\\n",
    "                     \"p\": 9, \"n\":10, \"b\":11, \"r\":12, \"q\":13, \"k\": 14}[pp.symbol()]\n",
    "    if board.has_queenside_castling_rights(chess.WHITE):\n",
    "      assert bstate[0] == 4\n",
    "      bstate[0] = 7\n",
    "    if board.has_kingside_castling_rights(chess.WHITE):\n",
    "      assert bstate[7] == 4\n",
    "      bstate[7] = 7\n",
    "    if board.has_queenside_castling_rights(chess.BLACK):\n",
    "      assert bstate[56] == 8+4\n",
    "      bstate[56] = 8+7\n",
    "    if board.has_kingside_castling_rights(chess.BLACK):\n",
    "      assert bstate[63] == 8+4\n",
    "      bstate[63] = 8+7\n",
    "\n",
    "    if board.ep_square is not None:\n",
    "      assert bstate[self.board.ep_square] == 0\n",
    "      bstate[self.board.ep_square] = 8\n",
    "    bstate = bstate.reshape(8,8)\n",
    "\n",
    "\n",
    "    state = []\n",
    "   \n",
    "    state.append(bin_matrix_to_decimal((bstate>>3)&1))\n",
    "    state.append(bin_matrix_to_decimal((bstate>>2)&1))\n",
    "    state.append(bin_matrix_to_decimal((bstate>>1)&1))\n",
    "    state.append(bin_matrix_to_decimal((bstate>>0)&1))\n",
    "\n",
    "    state.append(((board.turn*1.0)+50))\n",
    "    \n",
    "    return state\n"
   ]
  },
  {
   "cell_type": "code",
   "execution_count": 6,
   "metadata": {},
   "outputs": [],
   "source": [
    "import chess\n",
    "\n",
    "# to change encoded byte strings above into\n",
    "# normal string format\n",
    "def serialize2(board):\n",
    "    val = serialize(chess.Board(str(board)))\n",
    "    return val\n",
    "\n",
    "# apply here\n",
    "data['state'] = data['state'].apply(serialize2)\n",
    "data = pd.concat([data['state'].apply(pd.Series), data['move']], axis = 1)\n",
    "data = data.rename(columns = {0:'b1',1:'b2',2:'b3',3:'b4',4:'b5'})"
   ]
  },
  {
   "cell_type": "code",
   "execution_count": 7,
   "metadata": {},
   "outputs": [
    {
     "data": {
      "text/html": [
       "<div>\n",
       "<style scoped>\n",
       "    .dataframe tbody tr th:only-of-type {\n",
       "        vertical-align: middle;\n",
       "    }\n",
       "\n",
       "    .dataframe tbody tr th {\n",
       "        vertical-align: top;\n",
       "    }\n",
       "\n",
       "    .dataframe thead th {\n",
       "        text-align: right;\n",
       "    }\n",
       "</style>\n",
       "<table border=\"1\" class=\"dataframe\">\n",
       "  <thead>\n",
       "    <tr style=\"text-align: right;\">\n",
       "      <th></th>\n",
       "      <th>b1</th>\n",
       "      <th>b2</th>\n",
       "      <th>b3</th>\n",
       "      <th>b4</th>\n",
       "      <th>b5</th>\n",
       "      <th>move</th>\n",
       "    </tr>\n",
       "  </thead>\n",
       "  <tbody>\n",
       "    <tr>\n",
       "      <th>0</th>\n",
       "      <td>65534.0</td>\n",
       "      <td>1.102481e+19</td>\n",
       "      <td>1.707765e+19</td>\n",
       "      <td>1.311420e+19</td>\n",
       "      <td>50.0</td>\n",
       "      <td>g8h6</td>\n",
       "    </tr>\n",
       "  </tbody>\n",
       "</table>\n",
       "</div>"
      ],
      "text/plain": [
       "        b1            b2            b3            b4    b5  move\n",
       "0  65534.0  1.102481e+19  1.707765e+19  1.311420e+19  50.0  g8h6"
      ]
     },
     "execution_count": 7,
     "metadata": {},
     "output_type": "execute_result"
    }
   ],
   "source": [
    "data.head()"
   ]
  },
  {
   "cell_type": "code",
   "execution_count": 8,
   "metadata": {},
   "outputs": [
    {
     "data": {
      "text/html": [
       "<div>\n",
       "<style scoped>\n",
       "    .dataframe tbody tr th:only-of-type {\n",
       "        vertical-align: middle;\n",
       "    }\n",
       "\n",
       "    .dataframe tbody tr th {\n",
       "        vertical-align: top;\n",
       "    }\n",
       "\n",
       "    .dataframe thead th {\n",
       "        text-align: right;\n",
       "    }\n",
       "</style>\n",
       "<table border=\"1\" class=\"dataframe\">\n",
       "  <thead>\n",
       "    <tr style=\"text-align: right;\">\n",
       "      <th></th>\n",
       "      <th>b1</th>\n",
       "      <th>b2</th>\n",
       "      <th>b3</th>\n",
       "      <th>b4</th>\n",
       "      <th>b5</th>\n",
       "      <th>move</th>\n",
       "      <th>class</th>\n",
       "    </tr>\n",
       "  </thead>\n",
       "  <tbody>\n",
       "    <tr>\n",
       "      <th>0</th>\n",
       "      <td>11.090324</td>\n",
       "      <td>43.84668</td>\n",
       "      <td>44.284303</td>\n",
       "      <td>44.020227</td>\n",
       "      <td>50.0</td>\n",
       "      <td>g8h6</td>\n",
       "      <td>1</td>\n",
       "    </tr>\n",
       "  </tbody>\n",
       "</table>\n",
       "</div>"
      ],
      "text/plain": [
       "          b1        b2         b3         b4    b5  move  class\n",
       "0  11.090324  43.84668  44.284303  44.020227  50.0  g8h6      1"
      ]
     },
     "execution_count": 8,
     "metadata": {},
     "output_type": "execute_result"
    }
   ],
   "source": [
    "data['b1'] = data['b1'].apply(np.log)\n",
    "data['b2'] = data['b2'].apply(np.log)\n",
    "data['b3'] = data['b3'].apply(np.log)\n",
    "data['b4'] = data['b4'].apply(np.log)\n",
    "\n",
    "classes = np.random.randint(2, size=len(data.index))\n",
    "data['class'] = classes\n",
    "data.head()"
   ]
  },
  {
   "cell_type": "code",
   "execution_count": 9,
   "metadata": {},
   "outputs": [],
   "source": [
    "def listify(string):\n",
    "    return list(string)"
   ]
  },
  {
   "cell_type": "code",
   "execution_count": 10,
   "metadata": {},
   "outputs": [
    {
     "ename": "TypeError",
     "evalue": "insert() missing 2 required positional arguments: 'column' and 'value'",
     "output_type": "error",
     "traceback": [
      "\u001b[1;31m---------------------------------------------------------------------------\u001b[0m",
      "\u001b[1;31mTypeError\u001b[0m                                 Traceback (most recent call last)",
      "\u001b[1;32m<ipython-input-10-949887dab3ef>\u001b[0m in \u001b[0;36m<module>\u001b[1;34m\u001b[0m\n\u001b[0;32m      3\u001b[0m \u001b[0mdata\u001b[0m \u001b[1;33m=\u001b[0m \u001b[0mdata\u001b[0m\u001b[1;33m.\u001b[0m\u001b[0mrename\u001b[0m\u001b[1;33m(\u001b[0m\u001b[0mcolumns\u001b[0m \u001b[1;33m=\u001b[0m \u001b[1;33m{\u001b[0m\u001b[1;36m0\u001b[0m\u001b[1;33m:\u001b[0m\u001b[1;34m'm1'\u001b[0m\u001b[1;33m,\u001b[0m\u001b[1;36m1\u001b[0m\u001b[1;33m:\u001b[0m\u001b[1;34m'm2'\u001b[0m\u001b[1;33m,\u001b[0m\u001b[1;36m2\u001b[0m\u001b[1;33m:\u001b[0m\u001b[1;34m'm3'\u001b[0m\u001b[1;33m,\u001b[0m\u001b[1;36m3\u001b[0m\u001b[1;33m:\u001b[0m\u001b[1;34m'm4'\u001b[0m\u001b[1;33m,\u001b[0m\u001b[1;36m4\u001b[0m\u001b[1;33m:\u001b[0m\u001b[1;34m'm5'\u001b[0m\u001b[1;33m}\u001b[0m\u001b[1;33m)\u001b[0m\u001b[1;33m\u001b[0m\u001b[1;33m\u001b[0m\u001b[0m\n\u001b[0;32m      4\u001b[0m \u001b[1;32mif\u001b[0m \u001b[1;32mnot\u001b[0m \u001b[1;34m'm5'\u001b[0m \u001b[1;32min\u001b[0m \u001b[0mdata\u001b[0m\u001b[1;33m.\u001b[0m\u001b[0mcolumns\u001b[0m\u001b[1;33m:\u001b[0m\u001b[1;33m\u001b[0m\u001b[1;33m\u001b[0m\u001b[0m\n\u001b[1;32m----> 5\u001b[1;33m     \u001b[0mdata\u001b[0m\u001b[1;33m.\u001b[0m\u001b[0minsert\u001b[0m\u001b[1;33m(\u001b[0m\u001b[1;36m0\u001b[0m\u001b[1;33m)\u001b[0m\u001b[1;33m\u001b[0m\u001b[1;33m\u001b[0m\u001b[0m\n\u001b[0m\u001b[0;32m      6\u001b[0m \u001b[0mdata\u001b[0m\u001b[1;33m.\u001b[0m\u001b[0mhead\u001b[0m\u001b[1;33m(\u001b[0m\u001b[1;36m10\u001b[0m\u001b[1;33m)\u001b[0m\u001b[1;33m\u001b[0m\u001b[1;33m\u001b[0m\u001b[0m\n",
      "\u001b[1;31mTypeError\u001b[0m: insert() missing 2 required positional arguments: 'column' and 'value'"
     ]
    }
   ],
   "source": [
    "move = data.pop('move')\n",
    "data = pd.concat([data,move.apply(listify).apply(pd.Series)], axis = 1)\n",
    "data = data.rename(columns = {0:'m1',1:'m2',2:'m3',3:'m4',4:'m5'})\n",
    "ism5 = 'm5' in data.columns\n",
    "if not ism5:\n",
    "    data['m5'] = 0\n",
    "data.head(10)                                                              "
   ]
  },
  {
   "cell_type": "code",
   "execution_count": null,
   "metadata": {},
   "outputs": [],
   "source": [
    "def encode_move(m):\n",
    "    return ord(m)\n",
    "\n",
    "data['m1'] = data['m1'].apply(encode_move)\n",
    "data['m2'] = data['m2'].apply(encode_move)\n",
    "data['m3'] = data['m3'].apply(encode_move)\n",
    "data['m4'] = data['m4'].apply(encode_move)\n",
    "data['m5'] = data['m5'].apply(encode_move)\n",
    "    \n",
    "data.head()"
   ]
  },
  {
   "cell_type": "code",
   "execution_count": null,
   "metadata": {},
   "outputs": [],
   "source": [
    "_class = data.pop('class')\n",
    "data = pd.concat([data,_class], axis = 1)\n",
    "data.head()"
   ]
  },
  {
   "cell_type": "code",
   "execution_count": null,
   "metadata": {},
   "outputs": [],
   "source": [
    "from sklearn import svm\n",
    "\n",
    "data.pop('class')\n",
    "y =  np.random.randint(2, size=len(data.index))\n",
    "s = svm.SVC(kernel = 'rbf', gamma=1/64, probability = True)\n",
    "s.fit(data, y)\n",
    "test = [{'b1':11.090324,'b2':11.090324,'b3':11.090324,'b4':11.090324,'b5':11.090324,'m1':11.090324,'m2':11.090324,'m3':11.090324,'m4':11.090324}]\n",
    "print(s.predict_proba(pd.DataFrame(test)))"
   ]
  },
  {
   "cell_type": "code",
   "execution_count": null,
   "metadata": {},
   "outputs": [],
   "source": [
    "print(s.classes_)"
   ]
  },
  {
   "cell_type": "code",
   "execution_count": null,
   "metadata": {},
   "outputs": [],
   "source": []
  }
 ],
 "metadata": {
  "kernelspec": {
   "display_name": "Python 3",
   "language": "python",
   "name": "python3"
  },
  "language_info": {
   "codemirror_mode": {
    "name": "ipython",
    "version": 3
   },
   "file_extension": ".py",
   "mimetype": "text/x-python",
   "name": "python",
   "nbconvert_exporter": "python",
   "pygments_lexer": "ipython3",
   "version": "3.7.6"
  },
  "latex_envs": {
   "LaTeX_envs_menu_present": true,
   "autoclose": false,
   "autocomplete": true,
   "bibliofile": "biblio.bib",
   "cite_by": "apalike",
   "current_citInitial": 1,
   "eqLabelWithNumbers": true,
   "eqNumInitial": 1,
   "hotkeys": {
    "equation": "Ctrl-E",
    "itemize": "Ctrl-I"
   },
   "labels_anchors": false,
   "latex_user_defs": false,
   "report_style_numbering": false,
   "user_envs_cfg": false
  }
 },
 "nbformat": 4,
 "nbformat_minor": 4
}
